{
  "cells": [
    {
      "attachments": {},
      "cell_type": "markdown",
      "metadata": {
        "id": "jd8kG4AdBk9O"
      },
      "source": [
        "# **Mushroom Classification Using K-Nearest Neighbors (KNN), Support Vector Machine, and Random Forest Algorithms**\n",
        "*Authors: Atahan Çaldır, Musa Berkay Kocabaşoğlu, Kerem Ersan* \n",
        "\n",
        "*Class: CS 454 - Introduction to Machine Learning and Artificial Neural Networks by Ethem Alpaydın*"
      ]
    },
    {
      "attachments": {},
      "cell_type": "markdown",
      "metadata": {},
      "source": [
        "There are countless types of mushrooms in the world. The biggest problem with mushrooms to\n",
        "date is which mushrooms are edible and which are poisonous.The aim of our project is to create a\n",
        "model that shows which mushrooms are edible and which are poisonous by analyzing some properties\n",
        "of edible and poisonous mushrooms, ultimately, using this model to discover whether an unknown\n",
        "mushroom is edible or not."
      ]
    },
    {
      "attachments": {},
      "cell_type": "markdown",
      "metadata": {
        "id": "8iWL-ws7BFWh"
      },
      "source": [
        "## **1 - Importing Mushroom Dataset**\n",
        "First, we start by importing the most essential libraries that we will need to import and analyze the dataset."
      ]
    },
    {
      "cell_type": "code",
      "execution_count": 1,
      "metadata": {
        "id": "-A7KtG5l_j8a"
      },
      "outputs": [],
      "source": [
        "import numpy as np\n",
        "import pandas as pd\n",
        "import matplotlib.pyplot as plt"
      ]
    },
    {
      "attachments": {},
      "cell_type": "markdown",
      "metadata": {},
      "source": [
        "We will important the mushroom data. The source of the data is [UCI Machine Learning Repository](https://archive.ics.uci.edu/ml/datasets/mushroom). We downloaded the *.csv* file from Kaggle due to easier usage."
      ]
    },
    {
      "cell_type": "code",
      "execution_count": 2,
      "metadata": {
        "id": "mth5yj1uAstv"
      },
      "outputs": [],
      "source": [
        "dataset = pd.read_csv('mushrooms.csv')"
      ]
    },
    {
      "cell_type": "markdown",
      "metadata": {
        "id": "PH3pndcQBZW_"
      },
      "source": [
        "Now, the mushrooms.csv dataset is imported to the environment."
      ]
    },
    {
      "cell_type": "markdown",
      "metadata": {
        "id": "h2gvH4FbB-iE"
      },
      "source": [
        "## **2 - Understanding the data**\n",
        "Now, we should analyze the dataset from various aspects to understand its structure better. Let's see the first 5 rows of the data:"
      ]
    },
    {
      "cell_type": "code",
      "execution_count": 3,
      "metadata": {
        "colab": {
          "base_uri": "https://localhost:8080/",
          "height": 352
        },
        "id": "3IbMCx0IBYz-",
        "outputId": "183d314f-11aa-45a3-9f2c-b1ef92ac8c00"
      },
      "outputs": [
        {
          "data": {
            "text/html": [
              "<div>\n",
              "<style scoped>\n",
              "    .dataframe tbody tr th:only-of-type {\n",
              "        vertical-align: middle;\n",
              "    }\n",
              "\n",
              "    .dataframe tbody tr th {\n",
              "        vertical-align: top;\n",
              "    }\n",
              "\n",
              "    .dataframe thead th {\n",
              "        text-align: right;\n",
              "    }\n",
              "</style>\n",
              "<table border=\"1\" class=\"dataframe\">\n",
              "  <thead>\n",
              "    <tr style=\"text-align: right;\">\n",
              "      <th></th>\n",
              "      <th>class</th>\n",
              "      <th>cap-shape</th>\n",
              "      <th>cap-surface</th>\n",
              "      <th>cap-color</th>\n",
              "      <th>bruises</th>\n",
              "      <th>odor</th>\n",
              "      <th>gill-attachment</th>\n",
              "      <th>gill-spacing</th>\n",
              "      <th>gill-size</th>\n",
              "      <th>gill-color</th>\n",
              "      <th>...</th>\n",
              "      <th>stalk-surface-below-ring</th>\n",
              "      <th>stalk-color-above-ring</th>\n",
              "      <th>stalk-color-below-ring</th>\n",
              "      <th>veil-type</th>\n",
              "      <th>veil-color</th>\n",
              "      <th>ring-number</th>\n",
              "      <th>ring-type</th>\n",
              "      <th>spore-print-color</th>\n",
              "      <th>population</th>\n",
              "      <th>habitat</th>\n",
              "    </tr>\n",
              "  </thead>\n",
              "  <tbody>\n",
              "    <tr>\n",
              "      <th>0</th>\n",
              "      <td>p</td>\n",
              "      <td>x</td>\n",
              "      <td>s</td>\n",
              "      <td>n</td>\n",
              "      <td>t</td>\n",
              "      <td>p</td>\n",
              "      <td>f</td>\n",
              "      <td>c</td>\n",
              "      <td>n</td>\n",
              "      <td>k</td>\n",
              "      <td>...</td>\n",
              "      <td>s</td>\n",
              "      <td>w</td>\n",
              "      <td>w</td>\n",
              "      <td>p</td>\n",
              "      <td>w</td>\n",
              "      <td>o</td>\n",
              "      <td>p</td>\n",
              "      <td>k</td>\n",
              "      <td>s</td>\n",
              "      <td>u</td>\n",
              "    </tr>\n",
              "    <tr>\n",
              "      <th>1</th>\n",
              "      <td>e</td>\n",
              "      <td>x</td>\n",
              "      <td>s</td>\n",
              "      <td>y</td>\n",
              "      <td>t</td>\n",
              "      <td>a</td>\n",
              "      <td>f</td>\n",
              "      <td>c</td>\n",
              "      <td>b</td>\n",
              "      <td>k</td>\n",
              "      <td>...</td>\n",
              "      <td>s</td>\n",
              "      <td>w</td>\n",
              "      <td>w</td>\n",
              "      <td>p</td>\n",
              "      <td>w</td>\n",
              "      <td>o</td>\n",
              "      <td>p</td>\n",
              "      <td>n</td>\n",
              "      <td>n</td>\n",
              "      <td>g</td>\n",
              "    </tr>\n",
              "    <tr>\n",
              "      <th>2</th>\n",
              "      <td>e</td>\n",
              "      <td>b</td>\n",
              "      <td>s</td>\n",
              "      <td>w</td>\n",
              "      <td>t</td>\n",
              "      <td>l</td>\n",
              "      <td>f</td>\n",
              "      <td>c</td>\n",
              "      <td>b</td>\n",
              "      <td>n</td>\n",
              "      <td>...</td>\n",
              "      <td>s</td>\n",
              "      <td>w</td>\n",
              "      <td>w</td>\n",
              "      <td>p</td>\n",
              "      <td>w</td>\n",
              "      <td>o</td>\n",
              "      <td>p</td>\n",
              "      <td>n</td>\n",
              "      <td>n</td>\n",
              "      <td>m</td>\n",
              "    </tr>\n",
              "    <tr>\n",
              "      <th>3</th>\n",
              "      <td>p</td>\n",
              "      <td>x</td>\n",
              "      <td>y</td>\n",
              "      <td>w</td>\n",
              "      <td>t</td>\n",
              "      <td>p</td>\n",
              "      <td>f</td>\n",
              "      <td>c</td>\n",
              "      <td>n</td>\n",
              "      <td>n</td>\n",
              "      <td>...</td>\n",
              "      <td>s</td>\n",
              "      <td>w</td>\n",
              "      <td>w</td>\n",
              "      <td>p</td>\n",
              "      <td>w</td>\n",
              "      <td>o</td>\n",
              "      <td>p</td>\n",
              "      <td>k</td>\n",
              "      <td>s</td>\n",
              "      <td>u</td>\n",
              "    </tr>\n",
              "    <tr>\n",
              "      <th>4</th>\n",
              "      <td>e</td>\n",
              "      <td>x</td>\n",
              "      <td>s</td>\n",
              "      <td>g</td>\n",
              "      <td>f</td>\n",
              "      <td>n</td>\n",
              "      <td>f</td>\n",
              "      <td>w</td>\n",
              "      <td>b</td>\n",
              "      <td>k</td>\n",
              "      <td>...</td>\n",
              "      <td>s</td>\n",
              "      <td>w</td>\n",
              "      <td>w</td>\n",
              "      <td>p</td>\n",
              "      <td>w</td>\n",
              "      <td>o</td>\n",
              "      <td>e</td>\n",
              "      <td>n</td>\n",
              "      <td>a</td>\n",
              "      <td>g</td>\n",
              "    </tr>\n",
              "  </tbody>\n",
              "</table>\n",
              "<p>5 rows × 23 columns</p>\n",
              "</div>"
            ],
            "text/plain": [
              "  class cap-shape cap-surface cap-color bruises odor gill-attachment  \\\n",
              "0     p         x           s         n       t    p               f   \n",
              "1     e         x           s         y       t    a               f   \n",
              "2     e         b           s         w       t    l               f   \n",
              "3     p         x           y         w       t    p               f   \n",
              "4     e         x           s         g       f    n               f   \n",
              "\n",
              "  gill-spacing gill-size gill-color  ... stalk-surface-below-ring  \\\n",
              "0            c         n          k  ...                        s   \n",
              "1            c         b          k  ...                        s   \n",
              "2            c         b          n  ...                        s   \n",
              "3            c         n          n  ...                        s   \n",
              "4            w         b          k  ...                        s   \n",
              "\n",
              "  stalk-color-above-ring stalk-color-below-ring veil-type veil-color  \\\n",
              "0                      w                      w         p          w   \n",
              "1                      w                      w         p          w   \n",
              "2                      w                      w         p          w   \n",
              "3                      w                      w         p          w   \n",
              "4                      w                      w         p          w   \n",
              "\n",
              "  ring-number ring-type spore-print-color population habitat  \n",
              "0           o         p                 k          s       u  \n",
              "1           o         p                 n          n       g  \n",
              "2           o         p                 n          n       m  \n",
              "3           o         p                 k          s       u  \n",
              "4           o         e                 n          a       g  \n",
              "\n",
              "[5 rows x 23 columns]"
            ]
          },
          "execution_count": 3,
          "metadata": {},
          "output_type": "execute_result"
        }
      ],
      "source": [
        "dataset.head()"
      ]
    },
    {
      "cell_type": "markdown",
      "metadata": {
        "id": "0fdOW0fbCVra"
      },
      "source": [
        "As it can be seen on the above table, values are single letters in this dataset where each letter corresponds to a specific meaning (e.g. in the \"cap-shape\" column, b=bell, c=conical, f=flat, s=sunken).\n",
        "\n",
        "Since the most important and targeted column of this data is the \"class\" column, we should know that;\n",
        "*   p = poisonous\n",
        "*   e = edible\n",
        "\n",
        "Let's check the columns and see if there is any *null* variable in the data:\n"
      ]
    },
    {
      "cell_type": "code",
      "execution_count": 4,
      "metadata": {
        "colab": {
          "base_uri": "https://localhost:8080/"
        },
        "id": "uED65S7sBiQf",
        "outputId": "75ec4221-9544-490f-81bf-c45415acf467"
      },
      "outputs": [
        {
          "name": "stdout",
          "output_type": "stream",
          "text": [
            "<class 'pandas.core.frame.DataFrame'>\n",
            "RangeIndex: 8124 entries, 0 to 8123\n",
            "Data columns (total 23 columns):\n",
            " #   Column                    Non-Null Count  Dtype \n",
            "---  ------                    --------------  ----- \n",
            " 0   class                     8124 non-null   object\n",
            " 1   cap-shape                 8124 non-null   object\n",
            " 2   cap-surface               8124 non-null   object\n",
            " 3   cap-color                 8124 non-null   object\n",
            " 4   bruises                   8124 non-null   object\n",
            " 5   odor                      8124 non-null   object\n",
            " 6   gill-attachment           8124 non-null   object\n",
            " 7   gill-spacing              8124 non-null   object\n",
            " 8   gill-size                 8124 non-null   object\n",
            " 9   gill-color                8124 non-null   object\n",
            " 10  stalk-shape               8124 non-null   object\n",
            " 11  stalk-root                8124 non-null   object\n",
            " 12  stalk-surface-above-ring  8124 non-null   object\n",
            " 13  stalk-surface-below-ring  8124 non-null   object\n",
            " 14  stalk-color-above-ring    8124 non-null   object\n",
            " 15  stalk-color-below-ring    8124 non-null   object\n",
            " 16  veil-type                 8124 non-null   object\n",
            " 17  veil-color                8124 non-null   object\n",
            " 18  ring-number               8124 non-null   object\n",
            " 19  ring-type                 8124 non-null   object\n",
            " 20  spore-print-color         8124 non-null   object\n",
            " 21  population                8124 non-null   object\n",
            " 22  habitat                   8124 non-null   object\n",
            "dtypes: object(23)\n",
            "memory usage: 1.4+ MB\n"
          ]
        }
      ],
      "source": [
        "dataset.info()"
      ]
    },
    {
      "cell_type": "code",
      "execution_count": 5,
      "metadata": {
        "colab": {
          "base_uri": "https://localhost:8080/"
        },
        "id": "sbBWhG4BBzMs",
        "outputId": "03d394b6-e09c-4d52-ffc6-d110bf0841d8"
      },
      "outputs": [
        {
          "data": {
            "text/plain": [
              "0"
            ]
          },
          "execution_count": 5,
          "metadata": {},
          "output_type": "execute_result"
        }
      ],
      "source": [
        "dataset.isna().sum().sum()"
      ]
    },
    {
      "cell_type": "markdown",
      "metadata": {
        "id": "HkWTr-ScDSiY"
      },
      "source": [
        "There is no *null* variables in this data. Now, let's check if there is any other class than \"poisonous\" and \"edible\":"
      ]
    },
    {
      "cell_type": "code",
      "execution_count": 6,
      "metadata": {
        "colab": {
          "base_uri": "https://localhost:8080/"
        },
        "id": "UNylVza-DRnY",
        "outputId": "fb5482e9-660c-4967-b649-ab89e9e14afa"
      },
      "outputs": [
        {
          "data": {
            "text/plain": [
              "array(['p', 'e'], dtype=object)"
            ]
          },
          "execution_count": 6,
          "metadata": {},
          "output_type": "execute_result"
        }
      ],
      "source": [
        "dataset[\"class\"].unique()"
      ]
    },
    {
      "attachments": {},
      "cell_type": "markdown",
      "metadata": {
        "id": "y74Okzx8DjFx"
      },
      "source": [
        "There are only 2 classes as expected. Let's check the unique values of all columns:"
      ]
    },
    {
      "cell_type": "code",
      "execution_count": 7,
      "metadata": {
        "colab": {
          "base_uri": "https://localhost:8080/"
        },
        "id": "Di6MfqRAwLNi",
        "outputId": "ccd4ef14-930e-4589-99a1-815251757df7"
      },
      "outputs": [
        {
          "name": "stdout",
          "output_type": "stream",
          "text": [
            "['p' 'e']\n",
            "['x' 'b' 's' 'f' 'k' 'c']\n",
            "['s' 'y' 'f' 'g']\n",
            "['n' 'y' 'w' 'g' 'e' 'p' 'b' 'u' 'c' 'r']\n",
            "['t' 'f']\n",
            "['p' 'a' 'l' 'n' 'f' 'c' 'y' 's' 'm']\n",
            "['f' 'a']\n",
            "['c' 'w']\n",
            "['n' 'b']\n",
            "['k' 'n' 'g' 'p' 'w' 'h' 'u' 'e' 'b' 'r' 'y' 'o']\n",
            "['e' 't']\n",
            "['e' 'c' 'b' 'r' '?']\n",
            "['s' 'f' 'k' 'y']\n",
            "['s' 'f' 'y' 'k']\n",
            "['w' 'g' 'p' 'n' 'b' 'e' 'o' 'c' 'y']\n",
            "['w' 'p' 'g' 'b' 'n' 'e' 'y' 'o' 'c']\n",
            "['p']\n",
            "['w' 'n' 'o' 'y']\n",
            "['o' 't' 'n']\n",
            "['p' 'e' 'l' 'f' 'n']\n",
            "['k' 'n' 'u' 'h' 'w' 'r' 'o' 'y' 'b']\n",
            "['s' 'n' 'a' 'v' 'y' 'c']\n",
            "['u' 'g' 'm' 'd' 'p' 'w' 'l']\n"
          ]
        }
      ],
      "source": [
        "for col in dataset.columns:\n",
        "  print(dataset[col].unique())"
      ]
    },
    {
      "attachments": {},
      "cell_type": "markdown",
      "metadata": {
        "id": "qgcI2sCGwbP1"
      },
      "source": [
        "There are many unique values in different features. The description of these values are given in the source of the data as;\n",
        "1. cap-shape: bell=b,conical=c,convex=x,flat=f, knobbed=k,sunken=s\n",
        "2. cap-surface: fibrous=f,grooves=g,scaly=y,smooth=s\n",
        "3. cap-color: brown=n,buff=b,cinnamon=c,gray=g,green=r, pink=p,purple=u,red=e,white=w,yellow=y\n",
        "4. bruises?: bruises=t,no=f\n",
        "5. odor: almond=a,anise=l,creosote=c,fishy=y,foul=f, musty=m,none=n,pungent=p,spicy=s\n",
        "6. gill-attachment: attached=a,descending=d,free=f,notched=n\n",
        "7. gill-spacing: close=c,crowded=w,distant=d\n",
        "8. gill-size: broad=b,narrow=n\n",
        "9. gill-color: black=k,brown=n,buff=b,chocolate=h,gray=g, green=r,orange=o,pink=p,purple=u,red=e, white=w,yellow=y\n",
        "10. stalk-shape: enlarging=e,tapering=t\n",
        "11. stalk-root: bulbous=b,club=c,cup=u,equal=e, rhizomorphs=z,rooted=r,missing=?\n",
        "12. stalk-surface-above-ring: fibrous=f,scaly=y,silky=k,smooth=s\n",
        "13. stalk-surface-below-ring: fibrous=f,scaly=y,silky=k,smooth=s\n",
        "14. stalk-color-above-ring: brown=n,buff=b,cinnamon=c,gray=g,orange=o, pink=p,red=e,white=w,yellow=y\n",
        "15. stalk-color-below-ring: brown=n,buff=b,cinnamon=c,gray=g,orange=o, pink=p,red=e,white=w,yellow=y\n",
        "16. veil-type: partial=p,universal=u\n",
        "17. veil-color: brown=n,orange=o,white=w,yellow=y\n",
        "18. ring-number: none=n,one=o,two=t\n",
        "19. ring-type: cobwebby=c,evanescent=e,flaring=f,large=l, none=n,pendant=p,sheathing=s,zone=z\n",
        "20. spore-print-color: black=k,brown=n,buff=b,chocolate=h,green=r, orange=o,purple=u,white=w,yellow=y\n",
        "21. population: abundant=a,clustered=c,numerous=n, scattered=s,several=v,solitary=y\n",
        "22. habitat: grasses=g,leaves=l,meadows=m,paths=p, urban=u,waste=w,woods=d"
      ]
    },
    {
      "cell_type": "code",
      "execution_count": 8,
      "metadata": {
        "colab": {
          "base_uri": "https://localhost:8080/"
        },
        "id": "XqpLmWaADiCI",
        "outputId": "088421fa-7cd9-4035-92f3-dec72a39ef91"
      },
      "outputs": [
        {
          "data": {
            "text/plain": [
              "(8124, 23)"
            ]
          },
          "execution_count": 8,
          "metadata": {},
          "output_type": "execute_result"
        }
      ],
      "source": [
        "dataset.shape"
      ]
    },
    {
      "cell_type": "markdown",
      "metadata": {
        "id": "uyN1m5EODtp1"
      },
      "source": [
        "There are 8124 samples with 23 features where one of the features represent the class of the mushroom. Hence, we can say that the data has 22 independent variable where the class variable is the dependent variable.\n",
        "Now, let's analyze the columns in detail:"
      ]
    },
    {
      "cell_type": "code",
      "execution_count": 9,
      "metadata": {
        "colab": {
          "base_uri": "https://localhost:8080/",
          "height": 320
        },
        "id": "xhebmakNDtDe",
        "outputId": "60830011-3fbc-4cae-9bb9-fe0a055a312c"
      },
      "outputs": [
        {
          "data": {
            "text/html": [
              "<div>\n",
              "<style scoped>\n",
              "    .dataframe tbody tr th:only-of-type {\n",
              "        vertical-align: middle;\n",
              "    }\n",
              "\n",
              "    .dataframe tbody tr th {\n",
              "        vertical-align: top;\n",
              "    }\n",
              "\n",
              "    .dataframe thead th {\n",
              "        text-align: right;\n",
              "    }\n",
              "</style>\n",
              "<table border=\"1\" class=\"dataframe\">\n",
              "  <thead>\n",
              "    <tr style=\"text-align: right;\">\n",
              "      <th></th>\n",
              "      <th>class</th>\n",
              "      <th>cap-shape</th>\n",
              "      <th>cap-surface</th>\n",
              "      <th>cap-color</th>\n",
              "      <th>bruises</th>\n",
              "      <th>odor</th>\n",
              "      <th>gill-attachment</th>\n",
              "      <th>gill-spacing</th>\n",
              "      <th>gill-size</th>\n",
              "      <th>gill-color</th>\n",
              "      <th>...</th>\n",
              "      <th>stalk-surface-below-ring</th>\n",
              "      <th>stalk-color-above-ring</th>\n",
              "      <th>stalk-color-below-ring</th>\n",
              "      <th>veil-type</th>\n",
              "      <th>veil-color</th>\n",
              "      <th>ring-number</th>\n",
              "      <th>ring-type</th>\n",
              "      <th>spore-print-color</th>\n",
              "      <th>population</th>\n",
              "      <th>habitat</th>\n",
              "    </tr>\n",
              "  </thead>\n",
              "  <tbody>\n",
              "    <tr>\n",
              "      <th>count</th>\n",
              "      <td>8124</td>\n",
              "      <td>8124</td>\n",
              "      <td>8124</td>\n",
              "      <td>8124</td>\n",
              "      <td>8124</td>\n",
              "      <td>8124</td>\n",
              "      <td>8124</td>\n",
              "      <td>8124</td>\n",
              "      <td>8124</td>\n",
              "      <td>8124</td>\n",
              "      <td>...</td>\n",
              "      <td>8124</td>\n",
              "      <td>8124</td>\n",
              "      <td>8124</td>\n",
              "      <td>8124</td>\n",
              "      <td>8124</td>\n",
              "      <td>8124</td>\n",
              "      <td>8124</td>\n",
              "      <td>8124</td>\n",
              "      <td>8124</td>\n",
              "      <td>8124</td>\n",
              "    </tr>\n",
              "    <tr>\n",
              "      <th>unique</th>\n",
              "      <td>2</td>\n",
              "      <td>6</td>\n",
              "      <td>4</td>\n",
              "      <td>10</td>\n",
              "      <td>2</td>\n",
              "      <td>9</td>\n",
              "      <td>2</td>\n",
              "      <td>2</td>\n",
              "      <td>2</td>\n",
              "      <td>12</td>\n",
              "      <td>...</td>\n",
              "      <td>4</td>\n",
              "      <td>9</td>\n",
              "      <td>9</td>\n",
              "      <td>1</td>\n",
              "      <td>4</td>\n",
              "      <td>3</td>\n",
              "      <td>5</td>\n",
              "      <td>9</td>\n",
              "      <td>6</td>\n",
              "      <td>7</td>\n",
              "    </tr>\n",
              "    <tr>\n",
              "      <th>top</th>\n",
              "      <td>e</td>\n",
              "      <td>x</td>\n",
              "      <td>y</td>\n",
              "      <td>n</td>\n",
              "      <td>f</td>\n",
              "      <td>n</td>\n",
              "      <td>f</td>\n",
              "      <td>c</td>\n",
              "      <td>b</td>\n",
              "      <td>b</td>\n",
              "      <td>...</td>\n",
              "      <td>s</td>\n",
              "      <td>w</td>\n",
              "      <td>w</td>\n",
              "      <td>p</td>\n",
              "      <td>w</td>\n",
              "      <td>o</td>\n",
              "      <td>p</td>\n",
              "      <td>w</td>\n",
              "      <td>v</td>\n",
              "      <td>d</td>\n",
              "    </tr>\n",
              "    <tr>\n",
              "      <th>freq</th>\n",
              "      <td>4208</td>\n",
              "      <td>3656</td>\n",
              "      <td>3244</td>\n",
              "      <td>2284</td>\n",
              "      <td>4748</td>\n",
              "      <td>3528</td>\n",
              "      <td>7914</td>\n",
              "      <td>6812</td>\n",
              "      <td>5612</td>\n",
              "      <td>1728</td>\n",
              "      <td>...</td>\n",
              "      <td>4936</td>\n",
              "      <td>4464</td>\n",
              "      <td>4384</td>\n",
              "      <td>8124</td>\n",
              "      <td>7924</td>\n",
              "      <td>7488</td>\n",
              "      <td>3968</td>\n",
              "      <td>2388</td>\n",
              "      <td>4040</td>\n",
              "      <td>3148</td>\n",
              "    </tr>\n",
              "  </tbody>\n",
              "</table>\n",
              "<p>4 rows × 23 columns</p>\n",
              "</div>"
            ],
            "text/plain": [
              "       class cap-shape cap-surface cap-color bruises  odor gill-attachment  \\\n",
              "count   8124      8124        8124      8124    8124  8124            8124   \n",
              "unique     2         6           4        10       2     9               2   \n",
              "top        e         x           y         n       f     n               f   \n",
              "freq    4208      3656        3244      2284    4748  3528            7914   \n",
              "\n",
              "       gill-spacing gill-size gill-color  ... stalk-surface-below-ring  \\\n",
              "count          8124      8124       8124  ...                     8124   \n",
              "unique            2         2         12  ...                        4   \n",
              "top               c         b          b  ...                        s   \n",
              "freq           6812      5612       1728  ...                     4936   \n",
              "\n",
              "       stalk-color-above-ring stalk-color-below-ring veil-type veil-color  \\\n",
              "count                    8124                   8124      8124       8124   \n",
              "unique                      9                      9         1          4   \n",
              "top                         w                      w         p          w   \n",
              "freq                     4464                   4384      8124       7924   \n",
              "\n",
              "       ring-number ring-type spore-print-color population habitat  \n",
              "count         8124      8124              8124       8124    8124  \n",
              "unique           3         5                 9          6       7  \n",
              "top              o         p                 w          v       d  \n",
              "freq          7488      3968              2388       4040    3148  \n",
              "\n",
              "[4 rows x 23 columns]"
            ]
          },
          "execution_count": 9,
          "metadata": {},
          "output_type": "execute_result"
        }
      ],
      "source": [
        "dataset.describe()"
      ]
    },
    {
      "cell_type": "markdown",
      "metadata": {
        "id": "sf13pO1lEc9L"
      },
      "source": [
        "The detailed analysis clearly shows that the 51.8% of the  mushrooms are **edible** (4208 out of 8124 samples). "
      ]
    },
    {
      "attachments": {},
      "cell_type": "markdown",
      "metadata": {
        "id": "sYZDxBV3JBkV"
      },
      "source": [
        "## **3 - Data Preparation**\n",
        "\n",
        "Since the values are letters and we need quantitative data to pass it through the machine learning models, we need to convert these values into quantitative versions using label encoders."
      ]
    },
    {
      "cell_type": "code",
      "execution_count": 10,
      "metadata": {
        "colab": {
          "base_uri": "https://localhost:8080/",
          "height": 352
        },
        "id": "j3RI3JRmETeC",
        "outputId": "5e1e51f4-0d1e-4cbd-f07b-360e31bcefb9"
      },
      "outputs": [
        {
          "data": {
            "text/html": [
              "<div>\n",
              "<style scoped>\n",
              "    .dataframe tbody tr th:only-of-type {\n",
              "        vertical-align: middle;\n",
              "    }\n",
              "\n",
              "    .dataframe tbody tr th {\n",
              "        vertical-align: top;\n",
              "    }\n",
              "\n",
              "    .dataframe thead th {\n",
              "        text-align: right;\n",
              "    }\n",
              "</style>\n",
              "<table border=\"1\" class=\"dataframe\">\n",
              "  <thead>\n",
              "    <tr style=\"text-align: right;\">\n",
              "      <th></th>\n",
              "      <th>class</th>\n",
              "      <th>cap-shape</th>\n",
              "      <th>cap-surface</th>\n",
              "      <th>cap-color</th>\n",
              "      <th>bruises</th>\n",
              "      <th>odor</th>\n",
              "      <th>gill-attachment</th>\n",
              "      <th>gill-spacing</th>\n",
              "      <th>gill-size</th>\n",
              "      <th>gill-color</th>\n",
              "      <th>...</th>\n",
              "      <th>stalk-surface-below-ring</th>\n",
              "      <th>stalk-color-above-ring</th>\n",
              "      <th>stalk-color-below-ring</th>\n",
              "      <th>veil-type</th>\n",
              "      <th>veil-color</th>\n",
              "      <th>ring-number</th>\n",
              "      <th>ring-type</th>\n",
              "      <th>spore-print-color</th>\n",
              "      <th>population</th>\n",
              "      <th>habitat</th>\n",
              "    </tr>\n",
              "  </thead>\n",
              "  <tbody>\n",
              "    <tr>\n",
              "      <th>0</th>\n",
              "      <td>1</td>\n",
              "      <td>5</td>\n",
              "      <td>2</td>\n",
              "      <td>4</td>\n",
              "      <td>1</td>\n",
              "      <td>6</td>\n",
              "      <td>1</td>\n",
              "      <td>0</td>\n",
              "      <td>1</td>\n",
              "      <td>4</td>\n",
              "      <td>...</td>\n",
              "      <td>2</td>\n",
              "      <td>7</td>\n",
              "      <td>7</td>\n",
              "      <td>0</td>\n",
              "      <td>2</td>\n",
              "      <td>1</td>\n",
              "      <td>4</td>\n",
              "      <td>2</td>\n",
              "      <td>3</td>\n",
              "      <td>5</td>\n",
              "    </tr>\n",
              "    <tr>\n",
              "      <th>1</th>\n",
              "      <td>0</td>\n",
              "      <td>5</td>\n",
              "      <td>2</td>\n",
              "      <td>9</td>\n",
              "      <td>1</td>\n",
              "      <td>0</td>\n",
              "      <td>1</td>\n",
              "      <td>0</td>\n",
              "      <td>0</td>\n",
              "      <td>4</td>\n",
              "      <td>...</td>\n",
              "      <td>2</td>\n",
              "      <td>7</td>\n",
              "      <td>7</td>\n",
              "      <td>0</td>\n",
              "      <td>2</td>\n",
              "      <td>1</td>\n",
              "      <td>4</td>\n",
              "      <td>3</td>\n",
              "      <td>2</td>\n",
              "      <td>1</td>\n",
              "    </tr>\n",
              "    <tr>\n",
              "      <th>2</th>\n",
              "      <td>0</td>\n",
              "      <td>0</td>\n",
              "      <td>2</td>\n",
              "      <td>8</td>\n",
              "      <td>1</td>\n",
              "      <td>3</td>\n",
              "      <td>1</td>\n",
              "      <td>0</td>\n",
              "      <td>0</td>\n",
              "      <td>5</td>\n",
              "      <td>...</td>\n",
              "      <td>2</td>\n",
              "      <td>7</td>\n",
              "      <td>7</td>\n",
              "      <td>0</td>\n",
              "      <td>2</td>\n",
              "      <td>1</td>\n",
              "      <td>4</td>\n",
              "      <td>3</td>\n",
              "      <td>2</td>\n",
              "      <td>3</td>\n",
              "    </tr>\n",
              "    <tr>\n",
              "      <th>3</th>\n",
              "      <td>1</td>\n",
              "      <td>5</td>\n",
              "      <td>3</td>\n",
              "      <td>8</td>\n",
              "      <td>1</td>\n",
              "      <td>6</td>\n",
              "      <td>1</td>\n",
              "      <td>0</td>\n",
              "      <td>1</td>\n",
              "      <td>5</td>\n",
              "      <td>...</td>\n",
              "      <td>2</td>\n",
              "      <td>7</td>\n",
              "      <td>7</td>\n",
              "      <td>0</td>\n",
              "      <td>2</td>\n",
              "      <td>1</td>\n",
              "      <td>4</td>\n",
              "      <td>2</td>\n",
              "      <td>3</td>\n",
              "      <td>5</td>\n",
              "    </tr>\n",
              "    <tr>\n",
              "      <th>4</th>\n",
              "      <td>0</td>\n",
              "      <td>5</td>\n",
              "      <td>2</td>\n",
              "      <td>3</td>\n",
              "      <td>0</td>\n",
              "      <td>5</td>\n",
              "      <td>1</td>\n",
              "      <td>1</td>\n",
              "      <td>0</td>\n",
              "      <td>4</td>\n",
              "      <td>...</td>\n",
              "      <td>2</td>\n",
              "      <td>7</td>\n",
              "      <td>7</td>\n",
              "      <td>0</td>\n",
              "      <td>2</td>\n",
              "      <td>1</td>\n",
              "      <td>0</td>\n",
              "      <td>3</td>\n",
              "      <td>0</td>\n",
              "      <td>1</td>\n",
              "    </tr>\n",
              "  </tbody>\n",
              "</table>\n",
              "<p>5 rows × 23 columns</p>\n",
              "</div>"
            ],
            "text/plain": [
              "   class  cap-shape  cap-surface  cap-color  bruises  odor  gill-attachment  \\\n",
              "0      1          5            2          4        1     6                1   \n",
              "1      0          5            2          9        1     0                1   \n",
              "2      0          0            2          8        1     3                1   \n",
              "3      1          5            3          8        1     6                1   \n",
              "4      0          5            2          3        0     5                1   \n",
              "\n",
              "   gill-spacing  gill-size  gill-color  ...  stalk-surface-below-ring  \\\n",
              "0             0          1           4  ...                         2   \n",
              "1             0          0           4  ...                         2   \n",
              "2             0          0           5  ...                         2   \n",
              "3             0          1           5  ...                         2   \n",
              "4             1          0           4  ...                         2   \n",
              "\n",
              "   stalk-color-above-ring  stalk-color-below-ring  veil-type  veil-color  \\\n",
              "0                       7                       7          0           2   \n",
              "1                       7                       7          0           2   \n",
              "2                       7                       7          0           2   \n",
              "3                       7                       7          0           2   \n",
              "4                       7                       7          0           2   \n",
              "\n",
              "   ring-number  ring-type  spore-print-color  population  habitat  \n",
              "0            1          4                  2           3        5  \n",
              "1            1          4                  3           2        1  \n",
              "2            1          4                  3           2        3  \n",
              "3            1          4                  2           3        5  \n",
              "4            1          0                  3           0        1  \n",
              "\n",
              "[5 rows x 23 columns]"
            ]
          },
          "execution_count": 10,
          "metadata": {},
          "output_type": "execute_result"
        }
      ],
      "source": [
        "from sklearn.preprocessing import LabelEncoder\n",
        "data_encoded = dataset.copy()\n",
        "le = LabelEncoder()\n",
        "for col in data_encoded.columns:\n",
        "  data_encoded[col] = le.fit_transform(data_encoded[col])\n",
        "\n",
        "data_encoded.head()"
      ]
    },
    {
      "attachments": {},
      "cell_type": "markdown",
      "metadata": {
        "id": "EJSgM5cTHqyH"
      },
      "source": [
        "The values are quantitative and can be used in the models now. For the \"class\" column, the corresponding values are as follow;\n",
        "*   *1* = poisonous\n",
        "*   *0* = edible\n",
        "\n",
        "We can analyze the dataset again to see if we need feature scaling (normalization in range 0 to 1)."
      ]
    },
    {
      "cell_type": "code",
      "execution_count": 11,
      "metadata": {
        "colab": {
          "base_uri": "https://localhost:8080/",
          "height": 428
        },
        "id": "aFyqaTNVHmWd",
        "outputId": "a06a7167-7f54-41a8-f6fe-9af652cfcb7f"
      },
      "outputs": [
        {
          "data": {
            "text/html": [
              "<div>\n",
              "<style scoped>\n",
              "    .dataframe tbody tr th:only-of-type {\n",
              "        vertical-align: middle;\n",
              "    }\n",
              "\n",
              "    .dataframe tbody tr th {\n",
              "        vertical-align: top;\n",
              "    }\n",
              "\n",
              "    .dataframe thead th {\n",
              "        text-align: right;\n",
              "    }\n",
              "</style>\n",
              "<table border=\"1\" class=\"dataframe\">\n",
              "  <thead>\n",
              "    <tr style=\"text-align: right;\">\n",
              "      <th></th>\n",
              "      <th>class</th>\n",
              "      <th>cap-shape</th>\n",
              "      <th>cap-surface</th>\n",
              "      <th>cap-color</th>\n",
              "      <th>bruises</th>\n",
              "      <th>odor</th>\n",
              "      <th>gill-attachment</th>\n",
              "      <th>gill-spacing</th>\n",
              "      <th>gill-size</th>\n",
              "      <th>gill-color</th>\n",
              "      <th>...</th>\n",
              "      <th>stalk-surface-below-ring</th>\n",
              "      <th>stalk-color-above-ring</th>\n",
              "      <th>stalk-color-below-ring</th>\n",
              "      <th>veil-type</th>\n",
              "      <th>veil-color</th>\n",
              "      <th>ring-number</th>\n",
              "      <th>ring-type</th>\n",
              "      <th>spore-print-color</th>\n",
              "      <th>population</th>\n",
              "      <th>habitat</th>\n",
              "    </tr>\n",
              "  </thead>\n",
              "  <tbody>\n",
              "    <tr>\n",
              "      <th>count</th>\n",
              "      <td>8124.000000</td>\n",
              "      <td>8124.000000</td>\n",
              "      <td>8124.000000</td>\n",
              "      <td>8124.000000</td>\n",
              "      <td>8124.000000</td>\n",
              "      <td>8124.000000</td>\n",
              "      <td>8124.000000</td>\n",
              "      <td>8124.000000</td>\n",
              "      <td>8124.000000</td>\n",
              "      <td>8124.000000</td>\n",
              "      <td>...</td>\n",
              "      <td>8124.000000</td>\n",
              "      <td>8124.000000</td>\n",
              "      <td>8124.000000</td>\n",
              "      <td>8124.0</td>\n",
              "      <td>8124.000000</td>\n",
              "      <td>8124.000000</td>\n",
              "      <td>8124.000000</td>\n",
              "      <td>8124.000000</td>\n",
              "      <td>8124.000000</td>\n",
              "      <td>8124.000000</td>\n",
              "    </tr>\n",
              "    <tr>\n",
              "      <th>mean</th>\n",
              "      <td>0.482029</td>\n",
              "      <td>3.348104</td>\n",
              "      <td>1.827671</td>\n",
              "      <td>4.504677</td>\n",
              "      <td>0.415559</td>\n",
              "      <td>4.144756</td>\n",
              "      <td>0.974151</td>\n",
              "      <td>0.161497</td>\n",
              "      <td>0.309207</td>\n",
              "      <td>4.810684</td>\n",
              "      <td>...</td>\n",
              "      <td>1.603644</td>\n",
              "      <td>5.816347</td>\n",
              "      <td>5.794682</td>\n",
              "      <td>0.0</td>\n",
              "      <td>1.965534</td>\n",
              "      <td>1.069424</td>\n",
              "      <td>2.291974</td>\n",
              "      <td>3.596750</td>\n",
              "      <td>3.644018</td>\n",
              "      <td>1.508616</td>\n",
              "    </tr>\n",
              "    <tr>\n",
              "      <th>std</th>\n",
              "      <td>0.499708</td>\n",
              "      <td>1.604329</td>\n",
              "      <td>1.229873</td>\n",
              "      <td>2.545821</td>\n",
              "      <td>0.492848</td>\n",
              "      <td>2.103729</td>\n",
              "      <td>0.158695</td>\n",
              "      <td>0.368011</td>\n",
              "      <td>0.462195</td>\n",
              "      <td>3.540359</td>\n",
              "      <td>...</td>\n",
              "      <td>0.675974</td>\n",
              "      <td>1.901747</td>\n",
              "      <td>1.907291</td>\n",
              "      <td>0.0</td>\n",
              "      <td>0.242669</td>\n",
              "      <td>0.271064</td>\n",
              "      <td>1.801672</td>\n",
              "      <td>2.382663</td>\n",
              "      <td>1.252082</td>\n",
              "      <td>1.719975</td>\n",
              "    </tr>\n",
              "    <tr>\n",
              "      <th>min</th>\n",
              "      <td>0.000000</td>\n",
              "      <td>0.000000</td>\n",
              "      <td>0.000000</td>\n",
              "      <td>0.000000</td>\n",
              "      <td>0.000000</td>\n",
              "      <td>0.000000</td>\n",
              "      <td>0.000000</td>\n",
              "      <td>0.000000</td>\n",
              "      <td>0.000000</td>\n",
              "      <td>0.000000</td>\n",
              "      <td>...</td>\n",
              "      <td>0.000000</td>\n",
              "      <td>0.000000</td>\n",
              "      <td>0.000000</td>\n",
              "      <td>0.0</td>\n",
              "      <td>0.000000</td>\n",
              "      <td>0.000000</td>\n",
              "      <td>0.000000</td>\n",
              "      <td>0.000000</td>\n",
              "      <td>0.000000</td>\n",
              "      <td>0.000000</td>\n",
              "    </tr>\n",
              "    <tr>\n",
              "      <th>25%</th>\n",
              "      <td>0.000000</td>\n",
              "      <td>2.000000</td>\n",
              "      <td>0.000000</td>\n",
              "      <td>3.000000</td>\n",
              "      <td>0.000000</td>\n",
              "      <td>2.000000</td>\n",
              "      <td>1.000000</td>\n",
              "      <td>0.000000</td>\n",
              "      <td>0.000000</td>\n",
              "      <td>2.000000</td>\n",
              "      <td>...</td>\n",
              "      <td>1.000000</td>\n",
              "      <td>6.000000</td>\n",
              "      <td>6.000000</td>\n",
              "      <td>0.0</td>\n",
              "      <td>2.000000</td>\n",
              "      <td>1.000000</td>\n",
              "      <td>0.000000</td>\n",
              "      <td>2.000000</td>\n",
              "      <td>3.000000</td>\n",
              "      <td>0.000000</td>\n",
              "    </tr>\n",
              "    <tr>\n",
              "      <th>50%</th>\n",
              "      <td>0.000000</td>\n",
              "      <td>3.000000</td>\n",
              "      <td>2.000000</td>\n",
              "      <td>4.000000</td>\n",
              "      <td>0.000000</td>\n",
              "      <td>5.000000</td>\n",
              "      <td>1.000000</td>\n",
              "      <td>0.000000</td>\n",
              "      <td>0.000000</td>\n",
              "      <td>5.000000</td>\n",
              "      <td>...</td>\n",
              "      <td>2.000000</td>\n",
              "      <td>7.000000</td>\n",
              "      <td>7.000000</td>\n",
              "      <td>0.0</td>\n",
              "      <td>2.000000</td>\n",
              "      <td>1.000000</td>\n",
              "      <td>2.000000</td>\n",
              "      <td>3.000000</td>\n",
              "      <td>4.000000</td>\n",
              "      <td>1.000000</td>\n",
              "    </tr>\n",
              "    <tr>\n",
              "      <th>75%</th>\n",
              "      <td>1.000000</td>\n",
              "      <td>5.000000</td>\n",
              "      <td>3.000000</td>\n",
              "      <td>8.000000</td>\n",
              "      <td>1.000000</td>\n",
              "      <td>5.000000</td>\n",
              "      <td>1.000000</td>\n",
              "      <td>0.000000</td>\n",
              "      <td>1.000000</td>\n",
              "      <td>7.000000</td>\n",
              "      <td>...</td>\n",
              "      <td>2.000000</td>\n",
              "      <td>7.000000</td>\n",
              "      <td>7.000000</td>\n",
              "      <td>0.0</td>\n",
              "      <td>2.000000</td>\n",
              "      <td>1.000000</td>\n",
              "      <td>4.000000</td>\n",
              "      <td>7.000000</td>\n",
              "      <td>4.000000</td>\n",
              "      <td>2.000000</td>\n",
              "    </tr>\n",
              "    <tr>\n",
              "      <th>max</th>\n",
              "      <td>1.000000</td>\n",
              "      <td>5.000000</td>\n",
              "      <td>3.000000</td>\n",
              "      <td>9.000000</td>\n",
              "      <td>1.000000</td>\n",
              "      <td>8.000000</td>\n",
              "      <td>1.000000</td>\n",
              "      <td>1.000000</td>\n",
              "      <td>1.000000</td>\n",
              "      <td>11.000000</td>\n",
              "      <td>...</td>\n",
              "      <td>3.000000</td>\n",
              "      <td>8.000000</td>\n",
              "      <td>8.000000</td>\n",
              "      <td>0.0</td>\n",
              "      <td>3.000000</td>\n",
              "      <td>2.000000</td>\n",
              "      <td>4.000000</td>\n",
              "      <td>8.000000</td>\n",
              "      <td>5.000000</td>\n",
              "      <td>6.000000</td>\n",
              "    </tr>\n",
              "  </tbody>\n",
              "</table>\n",
              "<p>8 rows × 23 columns</p>\n",
              "</div>"
            ],
            "text/plain": [
              "             class    cap-shape  cap-surface    cap-color      bruises  \\\n",
              "count  8124.000000  8124.000000  8124.000000  8124.000000  8124.000000   \n",
              "mean      0.482029     3.348104     1.827671     4.504677     0.415559   \n",
              "std       0.499708     1.604329     1.229873     2.545821     0.492848   \n",
              "min       0.000000     0.000000     0.000000     0.000000     0.000000   \n",
              "25%       0.000000     2.000000     0.000000     3.000000     0.000000   \n",
              "50%       0.000000     3.000000     2.000000     4.000000     0.000000   \n",
              "75%       1.000000     5.000000     3.000000     8.000000     1.000000   \n",
              "max       1.000000     5.000000     3.000000     9.000000     1.000000   \n",
              "\n",
              "              odor  gill-attachment  gill-spacing    gill-size   gill-color  \\\n",
              "count  8124.000000      8124.000000   8124.000000  8124.000000  8124.000000   \n",
              "mean      4.144756         0.974151      0.161497     0.309207     4.810684   \n",
              "std       2.103729         0.158695      0.368011     0.462195     3.540359   \n",
              "min       0.000000         0.000000      0.000000     0.000000     0.000000   \n",
              "25%       2.000000         1.000000      0.000000     0.000000     2.000000   \n",
              "50%       5.000000         1.000000      0.000000     0.000000     5.000000   \n",
              "75%       5.000000         1.000000      0.000000     1.000000     7.000000   \n",
              "max       8.000000         1.000000      1.000000     1.000000    11.000000   \n",
              "\n",
              "       ...  stalk-surface-below-ring  stalk-color-above-ring  \\\n",
              "count  ...               8124.000000             8124.000000   \n",
              "mean   ...                  1.603644                5.816347   \n",
              "std    ...                  0.675974                1.901747   \n",
              "min    ...                  0.000000                0.000000   \n",
              "25%    ...                  1.000000                6.000000   \n",
              "50%    ...                  2.000000                7.000000   \n",
              "75%    ...                  2.000000                7.000000   \n",
              "max    ...                  3.000000                8.000000   \n",
              "\n",
              "       stalk-color-below-ring  veil-type   veil-color  ring-number  \\\n",
              "count             8124.000000     8124.0  8124.000000  8124.000000   \n",
              "mean                 5.794682        0.0     1.965534     1.069424   \n",
              "std                  1.907291        0.0     0.242669     0.271064   \n",
              "min                  0.000000        0.0     0.000000     0.000000   \n",
              "25%                  6.000000        0.0     2.000000     1.000000   \n",
              "50%                  7.000000        0.0     2.000000     1.000000   \n",
              "75%                  7.000000        0.0     2.000000     1.000000   \n",
              "max                  8.000000        0.0     3.000000     2.000000   \n",
              "\n",
              "         ring-type  spore-print-color   population      habitat  \n",
              "count  8124.000000        8124.000000  8124.000000  8124.000000  \n",
              "mean      2.291974           3.596750     3.644018     1.508616  \n",
              "std       1.801672           2.382663     1.252082     1.719975  \n",
              "min       0.000000           0.000000     0.000000     0.000000  \n",
              "25%       0.000000           2.000000     3.000000     0.000000  \n",
              "50%       2.000000           3.000000     4.000000     1.000000  \n",
              "75%       4.000000           7.000000     4.000000     2.000000  \n",
              "max       4.000000           8.000000     5.000000     6.000000  \n",
              "\n",
              "[8 rows x 23 columns]"
            ]
          },
          "execution_count": 11,
          "metadata": {},
          "output_type": "execute_result"
        }
      ],
      "source": [
        "data_encoded.describe()"
      ]
    },
    {
      "cell_type": "markdown",
      "metadata": {
        "id": "CdFFUvGiIso3"
      },
      "source": [
        "Since the data range is not extreme and the variance is low enough, we do **not** need to normalize the values"
      ]
    },
    {
      "cell_type": "markdown",
      "metadata": {
        "id": "IBFXzG5XTEN1"
      },
      "source": [
        "The machine learning models need to be trained first and then tested for checking their accuracies. For this purpose, we need to prepare an X and a Y variable where;\n",
        "*   X = independent variable (input): It keeps the 22 independent features of the mushrooms in n **m**x**n** matrix where m is the number of mushroom samples (8124) and n is the number of features (22).\n",
        "*   Y = dependent variable (output): It keeps the class of the mushrooms in an **n** sized vector where n is the number of mushrooms (8124)."
      ]
    },
    {
      "cell_type": "code",
      "execution_count": 12,
      "metadata": {
        "id": "aaHeuhJNUXZS"
      },
      "outputs": [],
      "source": [
        "x = data_encoded.drop([\"class\"],axis=1)\n",
        "y = data_encoded[\"class\"].to_numpy()"
      ]
    },
    {
      "cell_type": "code",
      "execution_count": 13,
      "metadata": {
        "colab": {
          "base_uri": "https://localhost:8080/",
          "height": 352
        },
        "id": "v8Ru0QJtV0sX",
        "outputId": "8f1f8f73-3356-43ce-8bed-ace38315c531"
      },
      "outputs": [
        {
          "data": {
            "text/html": [
              "<div>\n",
              "<style scoped>\n",
              "    .dataframe tbody tr th:only-of-type {\n",
              "        vertical-align: middle;\n",
              "    }\n",
              "\n",
              "    .dataframe tbody tr th {\n",
              "        vertical-align: top;\n",
              "    }\n",
              "\n",
              "    .dataframe thead th {\n",
              "        text-align: right;\n",
              "    }\n",
              "</style>\n",
              "<table border=\"1\" class=\"dataframe\">\n",
              "  <thead>\n",
              "    <tr style=\"text-align: right;\">\n",
              "      <th></th>\n",
              "      <th>cap-shape</th>\n",
              "      <th>cap-surface</th>\n",
              "      <th>cap-color</th>\n",
              "      <th>bruises</th>\n",
              "      <th>odor</th>\n",
              "      <th>gill-attachment</th>\n",
              "      <th>gill-spacing</th>\n",
              "      <th>gill-size</th>\n",
              "      <th>gill-color</th>\n",
              "      <th>stalk-shape</th>\n",
              "      <th>...</th>\n",
              "      <th>stalk-surface-below-ring</th>\n",
              "      <th>stalk-color-above-ring</th>\n",
              "      <th>stalk-color-below-ring</th>\n",
              "      <th>veil-type</th>\n",
              "      <th>veil-color</th>\n",
              "      <th>ring-number</th>\n",
              "      <th>ring-type</th>\n",
              "      <th>spore-print-color</th>\n",
              "      <th>population</th>\n",
              "      <th>habitat</th>\n",
              "    </tr>\n",
              "  </thead>\n",
              "  <tbody>\n",
              "    <tr>\n",
              "      <th>0</th>\n",
              "      <td>5</td>\n",
              "      <td>2</td>\n",
              "      <td>4</td>\n",
              "      <td>1</td>\n",
              "      <td>6</td>\n",
              "      <td>1</td>\n",
              "      <td>0</td>\n",
              "      <td>1</td>\n",
              "      <td>4</td>\n",
              "      <td>0</td>\n",
              "      <td>...</td>\n",
              "      <td>2</td>\n",
              "      <td>7</td>\n",
              "      <td>7</td>\n",
              "      <td>0</td>\n",
              "      <td>2</td>\n",
              "      <td>1</td>\n",
              "      <td>4</td>\n",
              "      <td>2</td>\n",
              "      <td>3</td>\n",
              "      <td>5</td>\n",
              "    </tr>\n",
              "    <tr>\n",
              "      <th>1</th>\n",
              "      <td>5</td>\n",
              "      <td>2</td>\n",
              "      <td>9</td>\n",
              "      <td>1</td>\n",
              "      <td>0</td>\n",
              "      <td>1</td>\n",
              "      <td>0</td>\n",
              "      <td>0</td>\n",
              "      <td>4</td>\n",
              "      <td>0</td>\n",
              "      <td>...</td>\n",
              "      <td>2</td>\n",
              "      <td>7</td>\n",
              "      <td>7</td>\n",
              "      <td>0</td>\n",
              "      <td>2</td>\n",
              "      <td>1</td>\n",
              "      <td>4</td>\n",
              "      <td>3</td>\n",
              "      <td>2</td>\n",
              "      <td>1</td>\n",
              "    </tr>\n",
              "    <tr>\n",
              "      <th>2</th>\n",
              "      <td>0</td>\n",
              "      <td>2</td>\n",
              "      <td>8</td>\n",
              "      <td>1</td>\n",
              "      <td>3</td>\n",
              "      <td>1</td>\n",
              "      <td>0</td>\n",
              "      <td>0</td>\n",
              "      <td>5</td>\n",
              "      <td>0</td>\n",
              "      <td>...</td>\n",
              "      <td>2</td>\n",
              "      <td>7</td>\n",
              "      <td>7</td>\n",
              "      <td>0</td>\n",
              "      <td>2</td>\n",
              "      <td>1</td>\n",
              "      <td>4</td>\n",
              "      <td>3</td>\n",
              "      <td>2</td>\n",
              "      <td>3</td>\n",
              "    </tr>\n",
              "    <tr>\n",
              "      <th>3</th>\n",
              "      <td>5</td>\n",
              "      <td>3</td>\n",
              "      <td>8</td>\n",
              "      <td>1</td>\n",
              "      <td>6</td>\n",
              "      <td>1</td>\n",
              "      <td>0</td>\n",
              "      <td>1</td>\n",
              "      <td>5</td>\n",
              "      <td>0</td>\n",
              "      <td>...</td>\n",
              "      <td>2</td>\n",
              "      <td>7</td>\n",
              "      <td>7</td>\n",
              "      <td>0</td>\n",
              "      <td>2</td>\n",
              "      <td>1</td>\n",
              "      <td>4</td>\n",
              "      <td>2</td>\n",
              "      <td>3</td>\n",
              "      <td>5</td>\n",
              "    </tr>\n",
              "    <tr>\n",
              "      <th>4</th>\n",
              "      <td>5</td>\n",
              "      <td>2</td>\n",
              "      <td>3</td>\n",
              "      <td>0</td>\n",
              "      <td>5</td>\n",
              "      <td>1</td>\n",
              "      <td>1</td>\n",
              "      <td>0</td>\n",
              "      <td>4</td>\n",
              "      <td>1</td>\n",
              "      <td>...</td>\n",
              "      <td>2</td>\n",
              "      <td>7</td>\n",
              "      <td>7</td>\n",
              "      <td>0</td>\n",
              "      <td>2</td>\n",
              "      <td>1</td>\n",
              "      <td>0</td>\n",
              "      <td>3</td>\n",
              "      <td>0</td>\n",
              "      <td>1</td>\n",
              "    </tr>\n",
              "  </tbody>\n",
              "</table>\n",
              "<p>5 rows × 22 columns</p>\n",
              "</div>"
            ],
            "text/plain": [
              "   cap-shape  cap-surface  cap-color  bruises  odor  gill-attachment  \\\n",
              "0          5            2          4        1     6                1   \n",
              "1          5            2          9        1     0                1   \n",
              "2          0            2          8        1     3                1   \n",
              "3          5            3          8        1     6                1   \n",
              "4          5            2          3        0     5                1   \n",
              "\n",
              "   gill-spacing  gill-size  gill-color  stalk-shape  ...  \\\n",
              "0             0          1           4            0  ...   \n",
              "1             0          0           4            0  ...   \n",
              "2             0          0           5            0  ...   \n",
              "3             0          1           5            0  ...   \n",
              "4             1          0           4            1  ...   \n",
              "\n",
              "   stalk-surface-below-ring  stalk-color-above-ring  stalk-color-below-ring  \\\n",
              "0                         2                       7                       7   \n",
              "1                         2                       7                       7   \n",
              "2                         2                       7                       7   \n",
              "3                         2                       7                       7   \n",
              "4                         2                       7                       7   \n",
              "\n",
              "   veil-type  veil-color  ring-number  ring-type  spore-print-color  \\\n",
              "0          0           2            1          4                  2   \n",
              "1          0           2            1          4                  3   \n",
              "2          0           2            1          4                  3   \n",
              "3          0           2            1          4                  2   \n",
              "4          0           2            1          0                  3   \n",
              "\n",
              "   population  habitat  \n",
              "0           3        5  \n",
              "1           2        1  \n",
              "2           2        3  \n",
              "3           3        5  \n",
              "4           0        1  \n",
              "\n",
              "[5 rows x 22 columns]"
            ]
          },
          "execution_count": 13,
          "metadata": {},
          "output_type": "execute_result"
        }
      ],
      "source": [
        "x.head()"
      ]
    },
    {
      "cell_type": "code",
      "execution_count": 14,
      "metadata": {
        "colab": {
          "base_uri": "https://localhost:8080/"
        },
        "id": "Ho-Rlc4oV6g9",
        "outputId": "a8ef7449-9fac-4993-d017-a191064b68db"
      },
      "outputs": [
        {
          "data": {
            "text/plain": [
              "array([1, 0, 0, ..., 0, 1, 0])"
            ]
          },
          "execution_count": 14,
          "metadata": {},
          "output_type": "execute_result"
        }
      ],
      "source": [
        "y"
      ]
    },
    {
      "cell_type": "markdown",
      "metadata": {
        "id": "7F5py57Cnz2D"
      },
      "source": [
        "Dataset splitted into 2 parts which are train and test sets."
      ]
    },
    {
      "cell_type": "code",
      "execution_count": 15,
      "metadata": {
        "id": "62JoZJs8k9ND"
      },
      "outputs": [],
      "source": [
        "from sklearn.model_selection import train_test_split\n",
        "\n",
        "x_train, x_test, y_train, y_test = train_test_split(x, y, test_size = 0.2)"
      ]
    },
    {
      "attachments": {},
      "cell_type": "markdown",
      "metadata": {
        "id": "uweQlWocJoXa"
      },
      "source": [
        "## **4 - Data Visualization**\n",
        "\n",
        "One of the best ways to understand a data is to see it visually. We can plot some aspects of the data for better understanding. Let's see the class distribution first:"
      ]
    },
    {
      "cell_type": "code",
      "execution_count": 16,
      "metadata": {
        "id": "BfLI-ecTJl8g"
      },
      "outputs": [],
      "source": [
        "import matplotlib.pylab as pylab\n",
        "import seaborn as sns\n",
        "\n",
        "def column_plot(column, hue=None, color=[\"blue\", \"purple\"], labels=None):\n",
        "    fig, ax = plt.subplots(figsize=(10, 5))\n",
        "    sns.countplot(x=column, hue=hue, palette=color, saturation=0.6, data=dataset, dodge=True, ax=ax)\n",
        "    ax.set(title = f\"Mushroom {column.title()} Distribution\", xlabel=f\"{column.title()}\", ylabel=\"Quantity\")\n",
        "    if labels!=None:\n",
        "        ax.set_xticklabels(labels)\n",
        "    if hue!=None:\n",
        "        ax.legend((\"Poisonous\", \"Edible\"), loc=0)"
      ]
    },
    {
      "cell_type": "code",
      "execution_count": 17,
      "metadata": {
        "colab": {
          "base_uri": "https://localhost:8080/",
          "height": 350
        },
        "id": "KsGvbPIGN490",
        "outputId": "661f504a-76e2-4fc8-d5cc-e783663efc8a"
      },
      "outputs": [
        {
          "data": {
            "image/png": "[encoded data removed]",
            "text/plain": [
              "<Figure size 720x360 with 1 Axes>"
            ]
          },
          "metadata": {
            "needs_background": "light"
          },
          "output_type": "display_data"
        }
      ],
      "source": [
        "class_dict = (\"Poisonous\", \"Edible\")\n",
        "column_plot(column=\"class\", labels=class_dict)"
      ]
    },
    {
      "attachments": {},
      "cell_type": "markdown",
      "metadata": {},
      "source": [
        "To make a classification regarding the independent variables, classification algorithms check the relation of these independent variables with the dependent one(s). For instance, conical shaped mushrooms are tend to be poisonous slightly more than edible. To prove it, we can visualize the \"cap-shape\" column regarding the class of the mushrooms:"
      ]
    },
    {
      "cell_type": "code",
      "execution_count": 18,
      "metadata": {
        "colab": {
          "base_uri": "https://localhost:8080/",
          "height": 350
        },
        "id": "MXSfWt8lPAC2",
        "outputId": "1bd32e65-2eac-4e8e-9300-d71f342280c6"
      },
      "outputs": [
        {
          "data": {
            "image/png": "[encoded data removed]",
            "text/plain": [
              "<Figure size 720x360 with 1 Axes>"
            ]
          },
          "metadata": {
            "needs_background": "light"
          },
          "output_type": "display_data"
        }
      ],
      "source": [
        "shape_dict = {\"bell\":\"b\",\"conical\":\"c\",\"convex\":\"x\",\"flat\":\"f\", \"knobbed\":\"k\",\"sunken\":\"s\"}\n",
        "labels = (\"convex\", \"bell\", \"sunken\", \"flat\", \"knobbed\", \"conical\")\n",
        "column_plot(column=\"cap-shape\", hue=\"class\", labels=labels)"
      ]
    },
    {
      "cell_type": "markdown",
      "metadata": {
        "id": "F9nifUEWzRhF"
      },
      "source": [
        "We used the t-SNE statistical method in order to visually observe which mushrooms are poisonous or non-poisonous according to what. Thus, we were able to examine our high-dimensional data in a 2-dimensional way."
      ]
    },
    {
      "cell_type": "code",
      "execution_count": 19,
      "metadata": {
        "colab": {
          "base_uri": "https://localhost:8080/"
        },
        "id": "e-81SvZtwp45",
        "outputId": "8c3fa133-dc78-4c3a-828d-37bee9f4789d"
      },
      "outputs": [
        {
          "name": "stderr",
          "output_type": "stream",
          "text": [
            "c:\\Users\\Atahan\\Anaconda3\\lib\\site-packages\\sklearn\\manifold\\_t_sne.py:780: FutureWarning: The default initialization in TSNE will change from 'random' to 'pca' in 1.2.\n",
            "  warnings.warn(\n"
          ]
        }
      ],
      "source": [
        "from sklearn.manifold import TSNE\n",
        "model = TSNE(learning_rate = 100)\n",
        "transformed = model.fit_transform(x)"
      ]
    },
    {
      "cell_type": "code",
      "execution_count": 22,
      "metadata": {
        "colab": {
          "base_uri": "https://localhost:8080/",
          "height": 836
        },
        "id": "PGNBSdWoxpdd",
        "outputId": "8948240c-675b-442c-fb10-6c5697eea1f6"
      },
      "outputs": [
        {
          "data": {
            "image/png": "[encoded data removed]",
            "text/plain": [
              "<Figure size 1440x1080 with 1 Axes>"
            ]
          },
          "metadata": {
            "needs_background": "light"
          },
          "output_type": "display_data"
        }
      ],
      "source": [
        "xs = transformed[:,0]\n",
        "ys = transformed[:,1]\n",
        "plt.scatter(xs, ys, c=y)\n",
        "plt.title('t-SNE projection of the Mushroom Dataset', fontsize=20)\n",
        "plt.rcParams[\"figure.figsize\"] = (20,15)\n",
        "plt.show()"
      ]
    },
    {
      "cell_type": "markdown",
      "metadata": {
        "id": "twEzq3Tf7jrV"
      },
      "source": [
        "We visualized our data with another method which is UMAP. While t-SNE moves the high dimensional graph to a lower dimensional space points by points, UMAP compresses that graph."
      ]
    },
    {
      "cell_type": "code",
      "execution_count": 21,
      "metadata": {
        "colab": {
          "base_uri": "https://localhost:8080/"
        },
        "id": "tIiqMUdH0LYP",
        "outputId": "81d48a75-4444-4c87-edc4-97708b3ca0a9"
      },
      "outputs": [],
      "source": [
        "#pip install umap-learn\n",
        "import umap.umap_ as umap"
      ]
    },
    {
      "cell_type": "code",
      "execution_count": 23,
      "metadata": {
        "id": "QCadfhmm08cu"
      },
      "outputs": [
        {
          "data": {
            "image/png": "[encoded data removed]",
            "text/plain": [
              "<Figure size 1440x1080 with 1 Axes>"
            ]
          },
          "metadata": {
            "needs_background": "light"
          },
          "output_type": "display_data"
        }
      ],
      "source": [
        "reducer = umap.UMAP()\n",
        "embedding = reducer.fit_transform(x)\n",
        "plt.scatter(embedding[:, 0],embedding[:, 1],c=y)\n",
        "plt.gca().set_aspect('equal', 'datalim')\n",
        "plt.title('UMAP projection of the Mushroom Dataset', fontsize=20)\n",
        "plt.rcParams[\"figure.figsize\"] = (20,15)\n",
        "plt.show()"
      ]
    },
    {
      "cell_type": "markdown",
      "metadata": {
        "id": "L2wHxJee9s1p"
      },
      "source": [
        "Although it is not so obvious on the UMAP graph, we observed that our mushrooms can be easily distinguished from each other on the t-SNE graph."
      ]
    },
    {
      "cell_type": "markdown",
      "metadata": {
        "id": "P-JzgVMvPeBv"
      },
      "source": [
        "## **5 - Classification of the Mushrooms**"
      ]
    },
    {
      "attachments": {},
      "cell_type": "markdown",
      "metadata": {},
      "source": [
        "### **5.1 - k-Fold Cross Validation**\n",
        "We now have the train and test data. For the validation process, we will use only the train data which corresponds to 80% of the dataset.\n",
        "\n",
        "Splitting a dataset into training and testing set is an essential and basic task when comes to getting a machine learning model ready for training. To determine if our model is overfitting or not, we need to test it on unseen data (validation set).\n",
        "\n",
        "We will use k-Fold Cross-Validation method with k=5 as it is the most popular usage. In this case, data will be divided into k=5 pieces, and iteratively, each of the piece will be used as the validation data while the other ones are train data as a whole. At the end, we will have a k sized vector that contains the accuracy for each trial."
      ]
    },
    {
      "cell_type": "code",
      "execution_count": 24,
      "metadata": {
        "id": "Km4QRmFeWg8o"
      },
      "outputs": [],
      "source": [
        "from sklearn.model_selection import KFold \n",
        "from sklearn.metrics import accuracy_score\n",
        "\n",
        "k_fold_split = 5\n",
        "\n",
        "def model_validation(model):\n",
        "  k_fold = KFold(n_splits=k_fold_split)\n",
        "  acc_score = []\n",
        "\n",
        "  for training_index , validation_index in k_fold.split(x_train):\n",
        "      x_training, x_validation = x_train.iloc[training_index,:], x_train.iloc[validation_index,:]\n",
        "      y_training, y_validation = y_train[training_index] , y_train[validation_index]\n",
        "      \n",
        "      model.fit(x_training, y_training)\n",
        "      pred_values = model.predict(x_validation)\n",
        "      \n",
        "      acc = accuracy_score(pred_values , y_validation)\n",
        "      acc_score.append(acc)\n",
        "      \n",
        "  return acc_score"
      ]
    },
    {
      "attachments": {},
      "cell_type": "markdown",
      "metadata": {
        "id": "2xCTagBaPrVD"
      },
      "source": [
        "### **5.2 - Classification via KNN, SVM, and RF**\n",
        "We understood the data and prepared to be passed through classification algorithms in the previous sections. It is time to use the models over the data.\n",
        "\n",
        "As expected in the project, we will use 3 different classification algorithms; K-Nearest Neighbors (KNN), Suppor Vector Machine (SVM), and Random Forest. Furhermore, we will use these algorithms with different possible hyperparameters and try to find the best settings by measuring the accuracies.\n",
        "\n",
        "*Scikit-learn* library will be used for the implementation of the algorithms."
      ]
    },
    {
      "cell_type": "code",
      "execution_count": 25,
      "metadata": {
        "id": "V9b7YOWvwDgn"
      },
      "outputs": [],
      "source": [
        "from sklearn.neighbors import KNeighborsClassifier\n",
        "from sklearn.svm import SVC\n",
        "from sklearn.ensemble import RandomForestClassifier\n",
        "import sklearn #to use sklearn.base.clone for cloning the best models\n",
        "import itertools #used for creating all of the element-combinations of the given list of lists\n",
        "from tqdm import tqdm #used for printing the progress of the for loop"
      ]
    },
    {
      "attachments": {},
      "cell_type": "markdown",
      "metadata": {
        "id": "HqUYn6ffRX_Z"
      },
      "source": [
        "#### **5.2.1 - K-Nearest Neighbors (KNN)**\n",
        "\n",
        "In the KNN classifier, these possible parameters values will be combined with each other (Parameters and possible inputs are taken from the official website of the Scikit-learn library):\n",
        "* *n_neighbors* = Number of neighbors to use. This the k value:\n",
        "  * From 1 to 15\n",
        "* *weights* = Weight function used in prediction\n",
        "  * [\"uniform\", \"distance\"]\n",
        "* *algorithm* = Algorithm used to compute the nearest neighbors\n",
        "  * \"auto\" will be left as default since it is already optimized.\n",
        "* *leaf_size* = Leaf size passed to BallTree or KDTree. This can affect the speed of the construction and query, as well as the memory required to store the tree.\n",
        "  * from 30 to 35\n",
        "* *p* = Power parameter for the Minkowski metric\n",
        "  * from 1 to 3\n",
        "\n",
        "All of the possible combinations of these values will be applied and the best accuracy will be printed with parameters."
      ]
    },
    {
      "cell_type": "code",
      "execution_count": 26,
      "metadata": {
        "colab": {
          "background_save": true
        },
        "id": "SD-cR6CzRjR9"
      },
      "outputs": [
        {
          "name": "stdout",
          "output_type": "stream",
          "text": [
            "540 different combinations of the parameters will be tested using k-Fold Cross Validation.\n",
            "\n"
          ]
        },
        {
          "name": "stderr",
          "output_type": "stream",
          "text": [
            "540it [55:57,  6.22s/it]\n"
          ]
        },
        {
          "name": "stdout",
          "output_type": "stream",
          "text": [
            "\n",
            "---\n",
            "Result:\n",
            "\n",
            "Best model's parameters:\n",
            "\tk = 1\n",
            "\tweights = uniform\n",
            "\tleaf_size = 30\n",
            "\tp = 1\n",
            "\n",
            "---\n",
            "Train Results:\n",
            "\n",
            "Best model's average accuracy = 1.0\n",
            "Best model's accuracy for each fold = [1.0, 1.0, 1.0, 1.0, 1.0]\n",
            "\n",
            "---\n",
            "Test Results:\n",
            "\n",
            "Best model's accuracy = 1.0\n",
            "***\n",
            "***\n",
            "[Extra] Average accuracies for each k value with every combination during validation process:\n",
            "\n",
            "\tk = 1, average accuracy = 0.9992306507964707\n",
            "\tk = 2, average accuracy = 0.9988203746471643\n",
            "\tk = 3, average accuracy = 0.9982560549535147\n",
            "\tk = 4, average accuracy = 0.9979484416020212\n",
            "\tk = 5, average accuracy = 0.9980253252008447\n",
            "\tk = 6, average accuracy = 0.9975380864965161\n",
            "\tk = 7, average accuracy = 0.9978714987860484\n",
            "\tk = 8, average accuracy = 0.9967942204062297\n",
            "\tk = 9, average accuracy = 0.9968967845087939\n",
            "\tk = 10, average accuracy = 0.9958453445451136\n",
            "\tk = 11, average accuracy = 0.9956144766190957\n",
            "\tk = 12, average accuracy = 0.9947426422692013\n",
            "\tk = 13, average accuracy = 0.9943835494759283\n",
            "\tk = 14, average accuracy = 0.9935629379601666\n",
            "\tk = 15, average accuracy = 0.9934859951441936\n"
          ]
        }
      ],
      "source": [
        "best_knn_avg_acc = 0\n",
        "best_knn_acc_list = []\n",
        "best_knn_params = None\n",
        "best_knn_model = None\n",
        "\n",
        "n_neighbors = range(1, 16)\n",
        "weights = [\"uniform\", \"distance\"]\n",
        "leaf_size = range(30, 36)\n",
        "p = range(1, 4)\n",
        "\n",
        "param_combination = [n_neighbors, weights, leaf_size, p]\n",
        "\n",
        "k_avg_accuracies = {} #this dictionary will collect the average accuries of different k valued models. Those accuracies' average will be reported\n",
        "for i in n_neighbors:\n",
        "    k_avg_accuracies[i] = []\n",
        "\n",
        "print(f\"{len(list(itertools.product(*param_combination)))} different combinations of the parameters will be tested using k-Fold Cross Validation.\\n\")\n",
        "\n",
        "for comb in tqdm(itertools.product(*param_combination)):\n",
        "    knn = KNeighborsClassifier(n_neighbors=comb[0], weights=comb[1], leaf_size=comb[2], p=comb[3])\n",
        "    \n",
        "    knn_accuracies = model_validation(knn)\n",
        "    knn_avg_accuracy = sum(knn_accuracies)/k_fold_split\n",
        "\n",
        "    k_avg_accuracies[comb[0]].append(knn_avg_accuracy)\n",
        "\n",
        "    if knn_avg_accuracy > best_knn_avg_acc:\n",
        "      best_knn_avg_acc = knn_avg_accuracy\n",
        "      best_knn_params = comb\n",
        "      best_knn_model = knn\n",
        "      best_knn_acc_list = knn_accuracies\n",
        "\n",
        "best_knn_model = sklearn.base.clone(best_knn_model) # deep copying the best model(untrained) to train again with the entire training data\n",
        "best_knn_model.fit(x_train, y_train) # training the copied best model with the training data\n",
        "test_pred_values = best_knn_model.predict(x_test)\n",
        "test_acc = accuracy_score(test_pred_values , y_test)\n",
        "\n",
        "print(f\"\\n---\\nResult:\\n\\nBest model's parameters:\\n\\tk = {best_knn_params[0]}\\n\\tweights = {best_knn_params[1]}\\n\\tleaf_size = {best_knn_params[2]}\\n\\tp = {best_knn_params[3]}\\n\\n---\\nTrain Results:\\n\\nBest model's average accuracy = {best_knn_avg_acc}\\nBest model's accuracy for each fold = {best_knn_acc_list}\\n\\n---\\nTest Results:\\n\\nBest model's accuracy = {test_acc}\")\n",
        "print(\"***\\n***\\n[Extra] Average accuracies for each k value with every combination during validation process:\\n\")\n",
        "for i in n_neighbors:\n",
        "    print(f\"\\tk = {i}, average accuracy = {np.mean(np.array(k_avg_accuracies[i]))}\")"
      ]
    },
    {
      "cell_type": "markdown",
      "metadata": {
        "id": "eguZTCMg-ARB"
      },
      "source": [
        "540 different parameter combinations are trained with 5 folded Cross Validation so that in total, 2700 different training processes have been done."
      ]
    },
    {
      "attachments": {},
      "cell_type": "markdown",
      "metadata": {
        "id": "5VJvfeqpjvMZ"
      },
      "source": [
        "#### **5.2.2 - Support Vector Machine (SVM)**\n",
        "\n",
        "In the SVM classifier, these possible parameters values will be combined with each other (Parameters and possible inputs are taken from the official website of the Scikit-learn library):\n",
        "* *C* = Regularization parameter. The strength of the regularization is inversely proportional to C. Must be strictly positive. The penalty is a squared l2 penalty.\n",
        "  * from 1 to 3\n",
        "* *kernel* = Specifies the kernel type to be used in the algorithm.\n",
        "  * [\"rbf\", \"poly\", \"sigmoid\"]\n",
        "* *gamma* = Kernel coefficient for ‘rbf’, ‘poly’ and ‘sigmoid’.\n",
        "  * [\"scale\", \"auto\"]\n",
        "* *shrinking* = Whether to use the shrinking heuristic.\n",
        "  * [True, False]\n",
        "* *decision_function_shape* = Whether to return a one-vs-rest (‘ovr’) decision function of shape (n_samples, n_classes) as all other classifiers, or the original one-vs-one (‘ovo’) decision function of libsvm which has shape (n_samples, n_classes * (n_classes - 1) / 2)\n",
        "  * [\"ovo\", \"ovr\"]\n",
        "\n",
        "All of the possible combinations of these values will be applied and the best accuracy will be printed with parameters."
      ]
    },
    {
      "cell_type": "code",
      "execution_count": 28,
      "metadata": {
        "id": "hf82Xzsuj1_O"
      },
      "outputs": [
        {
          "name": "stdout",
          "output_type": "stream",
          "text": [
            "72 different combinations of the parameters will be tested using k-Fold Cross Validation.\n",
            "\n"
          ]
        },
        {
          "name": "stderr",
          "output_type": "stream",
          "text": [
            "72it [05:29,  4.58s/it]\n"
          ]
        },
        {
          "name": "stdout",
          "output_type": "stream",
          "text": [
            "\n",
            "---\n",
            "Result:\n",
            "\n",
            "Best model's parameters:\n",
            "\tC = 1\n",
            "\tkernel = poly\n",
            "\tgamma = auto\n",
            "\tshrinking = True\n",
            "\tdecision_function_shape = ovo\n",
            "\n",
            "---\n",
            "Train Results:\n",
            "\n",
            "Best model's average accuracy = 1.0\n",
            "Best model's accuracy for each fold = [1.0, 1.0, 1.0, 1.0, 1.0]\n",
            "\n",
            "---\n",
            "Test Results:\n",
            "\n",
            "Best model's accuracy = 1.0\n"
          ]
        }
      ],
      "source": [
        "best_svm_avg_acc = 0\n",
        "best_svm_acc_list = []\n",
        "best_svm_params = None\n",
        "best_svm_model = None\n",
        "\n",
        "C = range(1, 4)\n",
        "kernel = ['rbf', 'poly', 'sigmoid']\n",
        "gamma = ['scale', 'auto']\n",
        "shrinking = [True, False]\n",
        "decision_function_shape = [\"ovo\", \"ovr\"]\n",
        "\n",
        "param_combination = [C, kernel, gamma, shrinking, decision_function_shape]\n",
        "\n",
        "print(f\"{len(list(itertools.product(*param_combination)))} different combinations of the parameters will be tested using k-Fold Cross Validation.\\n\")\n",
        "\n",
        "for comb in tqdm(itertools.product(*param_combination)):\n",
        "    svm = SVC(C = comb[0], kernel = comb[1], gamma = comb[2], shrinking = comb[3], decision_function_shape = comb[4])\n",
        "    \n",
        "    svm_accuracies = model_validation(svm)\n",
        "    svm_avg_accuracy = sum(svm_accuracies)/k_fold_split\n",
        "\n",
        "    if svm_avg_accuracy > best_svm_avg_acc:\n",
        "      best_svm_avg_acc = svm_avg_accuracy\n",
        "      best_svm_params = comb\n",
        "      best_svm_model = svm\n",
        "      best_svm_acc_list = svm_accuracies\n",
        "\n",
        "best_svm_model = sklearn.base.clone(best_svm_model) # deep copying the best model(untrained) to train again with the entire training data\n",
        "best_svm_model.fit(x_train, y_train) # training the copied best model with the training data\n",
        "test_pred_values = best_svm_model.predict(x_test)\n",
        "test_acc = accuracy_score(test_pred_values , y_test)\n",
        "\n",
        "print(f\"\\n---\\nResult:\\n\\nBest model's parameters:\\n\\tC = {best_svm_params[0]}\\n\\tkernel = {best_svm_params[1]}\\n\\tgamma = {best_svm_params[2]}\\n\\tshrinking = {best_svm_params[3]}\\n\\tdecision_function_shape = {best_svm_params[4]}\\n\\n---\\nTrain Results:\\n\\nBest model's average accuracy = {best_svm_avg_acc}\\nBest model's accuracy for each fold = {best_svm_acc_list}\\n\\n---\\nTest Results:\\n\\nBest model's accuracy = {test_acc}\")"
      ]
    },
    {
      "cell_type": "markdown",
      "metadata": {
        "id": "75b7UDE4Y5_Z"
      },
      "source": [
        "72 different parameter combinations are trained with 5 folded Cross Validation so that in total, 360 different training processes have been done."
      ]
    },
    {
      "attachments": {},
      "cell_type": "markdown",
      "metadata": {
        "id": "apbK7Fndj23j"
      },
      "source": [
        "#### **5.2.3 - Random Forest**"
      ]
    },
    {
      "attachments": {},
      "cell_type": "markdown",
      "metadata": {
        "id": "pBVxmGuPy64L"
      },
      "source": [
        "In the Random Forest classifier, these possible parameters values will be combined with each other (Parameters and possible inputs are taken from the official website of the Scikit-learn library):\n",
        "* *n_estimators* = The number of trees in the forest. This the tree count:\n",
        "  * [100, 200, 300, 400, 500]\n",
        "* *criterion* = The function to measure the quality of a split.\n",
        "  * \"gini\" will be used because it's default value.\n",
        "* *max_depth* = The maximum depth of the tree.\n",
        "  * [10, 20, 30, 40, 50, None]\n",
        "* *min_samples_split* = The minimum number of samples required to split an internal node.\n",
        "  * [2, 4]\n",
        "* *min_samples_leaf* = The minimum number of samples required to be at a leaf node.\n",
        "  * [1, 2]\n",
        "* *min_weight_fraction_leaf* = The minimum weighted fraction of the sum total of weights (of all the input samples) required to be at a leaf node.\n",
        "  * default = 0.0 value is used.\n",
        "* *max_features* = The number of features to consider when looking for the best split.\n",
        "  * [\"log2\", \"sqrt\"]\n",
        "* *max_leaf_nodes* = Grow trees with max_leaf_nodes in best-first fashion.\n",
        "  * default = None value is used.\n",
        "* *min_impurity_decrease* = A node will be split if this split induces a decrease of the impurity greater than or equal to this value.\n",
        "  * default = 0.0 value is used.\n",
        "* *bootstrap* = Whether bootstrap samples are used when building trees.\n",
        "  * [True, False]\n",
        "* *oob_score* = Whether to use out-of-bag samples to estimate the generalization score. Only available if bootstrap=True.\n",
        "  * default = False value is used.\n",
        "* *n_jobs* = The number of jobs to run in parallel.\n",
        "  * default = None value is used.\n",
        "* *random_state* = Controls both the randomness of the bootstrapping of the samples used when building trees (if bootstrap=True) and the sampling of the features to consider when looking for the best split at each node (if max_features < n_features).\n",
        "  * default = None value is used.\n",
        "* *verbose* =  Controls the verbosity when fitting and predicting.\n",
        "  * default = 0 value is used.\n",
        "* *warm_start* = When set to True, reuse the solution of the previous call to fit and add more estimators to the ensemble, otherwise, just fit a whole new forest.\n",
        "  * default = False value is used.\n",
        "* *class_weight* = Weights associated with classes in the form {class_label: weight}. If not given, all classes are supposed to have weight one.\n",
        "  * default = None value is used.\n",
        "* *ccp_alpha* = Complexity parameter used for Minimal Cost-Complexity Pruning. \n",
        "  * default = 0.0 value is used.\n",
        "* *max_samples* = If bootstrap is True, the number of samples to draw from X to train each base estimator.\n",
        "  * default = None value is used.\n",
        "\n",
        "\n",
        "All of the possible combinations of these values will be applied and the best accuracy will be printed with parameters."
      ]
    },
    {
      "cell_type": "code",
      "execution_count": 32,
      "metadata": {
        "id": "4LnVlZsRj6Xr"
      },
      "outputs": [
        {
          "name": "stdout",
          "output_type": "stream",
          "text": [
            "480 different combinations of the parameters will be tested using k-Fold Cross Validation.\n",
            "\n"
          ]
        },
        {
          "name": "stderr",
          "output_type": "stream",
          "text": [
            "480it [30:21,  3.80s/it]\n"
          ]
        },
        {
          "name": "stdout",
          "output_type": "stream",
          "text": [
            "\n",
            "---\n",
            "Result:\n",
            "\n",
            "Best model's parameters:\n",
            "\tn estimator = 100\n",
            "\tmax feature = log2\n",
            "\tmax depth = 10\n",
            "\tmin samples split = 2\n",
            "\tmin samples leaf = 1\n",
            "\tbootstrap= True\n",
            "\n",
            "---\n",
            "Train Results:\n",
            "\n",
            "Best model's average accuracy = 1.0\n",
            "Best model's accuracy for each fold = [1.0, 1.0, 1.0, 1.0, 1.0]\n",
            "\n",
            "---\n",
            "Test Results:\n",
            "\n",
            "Best model's accuracy = 1.0\n"
          ]
        }
      ],
      "source": [
        "best_rf_avg_acc = 0\n",
        "best_rf_acc_list = []\n",
        "best_rf_params = None\n",
        "best_rf_model = None\n",
        "\n",
        "# Number of trees in random forest\n",
        "n_estimators = [int(x) for x in np.linspace(start = 100, stop = 500, num = 5)]\n",
        "# Number of features to consider at every split\n",
        "max_features = ['log2', 'sqrt']\n",
        "# Maximum number of levels in tree\n",
        "max_depth = [int(x) for x in np.linspace(10, 50, num = 5)]\n",
        "max_depth.append(None)\n",
        "# Minimum number of samples required to split a node\n",
        "min_samples_split = [2, 4]\n",
        "# Minimum number of samples required at each leaf node\n",
        "min_samples_leaf = [1, 2]\n",
        "# Method of selecting samples for training each tree\n",
        "bootstrap = [True, False]\n",
        "\n",
        "param_combination = [n_estimators, max_features, max_depth, min_samples_split, min_samples_leaf, bootstrap]\n",
        "\n",
        "print(f\"{len(list(itertools.product(*param_combination)))} different combinations of the parameters will be tested using k-Fold Cross Validation.\\n\")\n",
        "\n",
        "for comb in tqdm(itertools.product(*param_combination)):\n",
        "    rf = RandomForestClassifier(n_estimators=comb[0], max_features=comb[1],\n",
        "                                max_depth=comb[2], min_samples_split=comb[3],\n",
        "                                min_samples_leaf=comb[4], bootstrap=comb[5])\n",
        "    \n",
        "    rf_accuracies = model_validation(rf)\n",
        "    rf_avg_accuracy = sum(rf_accuracies)/k_fold_split\n",
        "\n",
        "    if rf_avg_accuracy > best_rf_avg_acc:\n",
        "      best_rf_avg_acc = rf_avg_accuracy\n",
        "      best_rf_params = comb\n",
        "      best_rf_model = rf\n",
        "      best_rf_acc_list = rf_accuracies\n",
        "    \n",
        "best_rf_model = sklearn.base.clone(best_rf_model) # deep copying the best model(untrained) to train again with the entire training data\n",
        "best_rf_model.fit(x_train, y_train) # training the copied best model with the training data    \n",
        "test_pred_values = best_rf_model.predict(x_test)\n",
        "test_acc = accuracy_score(test_pred_values , y_test)\n",
        "\n",
        "print(f\"\\n---\\nResult:\\n\\nBest model's parameters:\\n\\tn estimator = {best_rf_params[0]}\\n\\tmax feature = {best_rf_params[1]}\\n\\tmax depth = {best_rf_params[2]}\\n\\tmin samples split = {best_rf_params[3]}\\n\\tmin samples leaf = {best_rf_params[4]}\\n\\tbootstrap= {best_rf_params[5]}\\n\\n---\\nTrain Results:\\n\\nBest model's average accuracy = {best_rf_avg_acc}\\nBest model's accuracy for each fold = {best_rf_acc_list}\\n\\n---\\nTest Results:\\n\\nBest model's accuracy = {test_acc}\")"
      ]
    },
    {
      "cell_type": "markdown",
      "metadata": {
        "id": "wfhwH1vWw1vy"
      },
      "source": [
        "## **6 - Visual Results**\n",
        "\n",
        "To understand the performances of the model better, we can draw the confusion matrices of their predictions. Below function will take the  models for each of the algorithms and draw their confusion matrix automatically."
      ]
    },
    {
      "cell_type": "code",
      "execution_count": 29,
      "metadata": {
        "id": "8Z4eeYiexaxV"
      },
      "outputs": [],
      "source": [
        "from sklearn.metrics import confusion_matrix\n",
        "\n",
        "def draw_conf_matrix(model, model_name):\n",
        "  y_pred = model.predict(x_test)\n",
        "  y_true = y_test\n",
        "  cm = confusion_matrix(y_true, y_pred)\n",
        "  f, ax = plt.subplots(figsize =(5,5))\n",
        "  sns.heatmap(cm, annot = True, linewidths=0.5, linecolor=\"red\", fmt = \".0f\", ax=ax)\n",
        "  plt.xlabel(\"y_pred\")\n",
        "  plt.ylabel(\"y_true\")\n",
        "  plt.title(f\"Confusion Matrix of {model_name}\")\n",
        "  plt.show()"
      ]
    },
    {
      "cell_type": "markdown",
      "metadata": {
        "id": "Y_r7wQlgzAXJ"
      },
      "source": [
        "### **6.1 - K-Nearest Neighbors (KNN) Confusion Matrix**"
      ]
    },
    {
      "cell_type": "code",
      "execution_count": 30,
      "metadata": {
        "id": "r01yJjA8y_3y"
      },
      "outputs": [
        {
          "data": {
            "image/png": "[encoded data removed]",
            "text/plain": [
              "<Figure size 360x360 with 2 Axes>"
            ]
          },
          "metadata": {
            "needs_background": "light"
          },
          "output_type": "display_data"
        }
      ],
      "source": [
        "draw_conf_matrix(best_knn_model, \"K-Nearest Neighbors (KNN)\")"
      ]
    },
    {
      "cell_type": "markdown",
      "metadata": {
        "id": "DoDAmHdhzF0c"
      },
      "source": [
        "### **6.2 - Support Vector Machine (SVM) Confusion Matrix**"
      ]
    },
    {
      "cell_type": "code",
      "execution_count": 31,
      "metadata": {
        "id": "D4NWpyY8zK7Y"
      },
      "outputs": [
        {
          "data": {
            "image/png": "[encoded data removed]",
            "text/plain": [
              "<Figure size 360x360 with 2 Axes>"
            ]
          },
          "metadata": {
            "needs_background": "light"
          },
          "output_type": "display_data"
        }
      ],
      "source": [
        "draw_conf_matrix(best_svm_model, \"Support Vector Machine (SVM)\")"
      ]
    },
    {
      "cell_type": "markdown",
      "metadata": {
        "id": "g-_yrlHMzSa3"
      },
      "source": [
        "### **6.3 - Random Forest Confusion Matrix**"
      ]
    },
    {
      "cell_type": "code",
      "execution_count": 33,
      "metadata": {
        "id": "6AhGUkItzVsU"
      },
      "outputs": [
        {
          "data": {
            "image/png": "[encoded data removed]",
            "text/plain": [
              "<Figure size 360x360 with 2 Axes>"
            ]
          },
          "metadata": {
            "needs_background": "light"
          },
          "output_type": "display_data"
        }
      ],
      "source": [
        "draw_conf_matrix(best_rf_model, \"Random Forest\")"
      ]
    },
    {
      "cell_type": "code",
      "execution_count": null,
      "metadata": {},
      "outputs": [],
      "source": []
    }
  ],
  "metadata": {
    "colab": {
      "provenance": []
    },
    "kernelspec": {
      "display_name": "base",
      "language": "python",
      "name": "python3"
    },
    "language_info": {
      "codemirror_mode": {
        "name": "ipython",
        "version": 3
      },
      "file_extension": ".py",
      "mimetype": "text/x-python",
      "name": "python",
      "nbconvert_exporter": "python",
      "pygments_lexer": "ipython3",
      "version": "3.9.12 (main, Apr  4 2022, 05:22:27) [MSC v.1916 64 bit (AMD64)]"
    },
    "vscode": {
      "interpreter": {
        "hash": "5bd287a010060899702d6c3862fc9fd622a522e8e4d0c1dbe01fec05620295f0"
      }
    }
  },
  "nbformat": 4,
  "nbformat_minor": 0
}
